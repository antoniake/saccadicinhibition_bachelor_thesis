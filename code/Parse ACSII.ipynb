{
 "cells": [
  {
   "cell_type": "code",
   "execution_count": 1,
   "id": "ccaaaabd-437c-46ff-908e-5bc088e6196b",
   "metadata": {},
   "outputs": [],
   "source": [
    "import numpy as np\n",
    "import pandas as pd\n",
    "import matplotlib.pyplot as plt"
   ]
  },
  {
   "cell_type": "markdown",
   "id": "2aab3248-ad5b-4858-ac42-7429d3315b34",
   "metadata": {},
   "source": [
    "# Define Parsing Function"
   ]
  },
  {
   "cell_type": "code",
   "execution_count": 2,
   "id": "84192ea8-c752-4b2c-a9c8-348cff81c5e2",
   "metadata": {},
   "outputs": [],
   "source": [
    "def parse_eyelink_edf_data(filename, start_name = 'TRIAL_START', end_name = 'TRIAL_END'):\n",
    "    # initialize the sample array\n",
    "    sample_array = []\n",
    "    # set parameter to record/drop data\n",
    "    record_data = False\n",
    "\n",
    "    with open(filename) as file:\n",
    "        for line in file:\n",
    "            split_line = line.split('\\t')\n",
    "            # check if line is a message\n",
    "            if split_line[0].startswith('MSG'):\n",
    "                try:\n",
    "                    # parse message content\n",
    "                    msg_content = split_line[1].split(' ')\n",
    "                    # check if trial started\n",
    "                    if msg_content[1] == start_name:\n",
    "                        # set trial id\n",
    "                        trialid = int(msg_content[2].strip('\\n'))\n",
    "                        # start data saving\n",
    "                        record_data = True\n",
    "                    # check if trial ended\n",
    "                    elif msg_content[1] == end_name:\n",
    "                        endid = int(msg_content[2].strip('\\n'))\n",
    "                        # end data saving\n",
    "                        record_data = False\n",
    "                        if trialid != endid:\n",
    "                            # sanity check\n",
    "                            raise ValueError(f'Trial Start ID {trialid} does not match trial end id {endid}')         \n",
    "                except IndexError:\n",
    "                    pass\n",
    "            elif split_line[0].startswith('EFIX'):\n",
    "                pass\n",
    "            # you could add more conditions here ...\n",
    "            # a line with data has 6 entries\n",
    "            elif len(split_line) == 6:\n",
    "                if record_data:\n",
    "                    # discard the last entry (...\\n)\n",
    "                    record_line = split_line[:5]\n",
    "                    # add the trial id\n",
    "                    record_line.append(trialid)\n",
    "                    # save the line in new array\n",
    "                    sample_array.append(record_line)\n",
    "\n",
    "    # convert to pd Data Frame\n",
    "    data = pd.DataFrame(sample_array)\n",
    "    # ensure data format\n",
    "    for col in range(5):\n",
    "        data[data[col] == '   .'] = np.nan\n",
    "        data[col] = data[col].astype(float)\n",
    "    # name columns\n",
    "    data.columns = ['sample', 'x_pos', 'y_pos', 'pupil_width', 'unknownB', 'trial']\n",
    "    data = data.dropna(axis = 0)\n",
    "    return data"
   ]
  },
  {
   "cell_type": "markdown",
   "id": "7fdc5d98-e0d2-49cf-b1d3-940e970cba79",
   "metadata": {},
   "source": [
    "# Apply parsing to test case"
   ]
  },
  {
   "cell_type": "code",
   "execution_count": 3,
   "id": "f62bfe20-9fd0-4e2d-b272-309d5de1d5f3",
   "metadata": {},
   "outputs": [
    {
     "data": {
      "text/html": [
       "<div>\n",
       "<style scoped>\n",
       "    .dataframe tbody tr th:only-of-type {\n",
       "        vertical-align: middle;\n",
       "    }\n",
       "\n",
       "    .dataframe tbody tr th {\n",
       "        vertical-align: top;\n",
       "    }\n",
       "\n",
       "    .dataframe thead th {\n",
       "        text-align: right;\n",
       "    }\n",
       "</style>\n",
       "<table border=\"1\" class=\"dataframe\">\n",
       "  <thead>\n",
       "    <tr style=\"text-align: right;\">\n",
       "      <th></th>\n",
       "      <th>sample</th>\n",
       "      <th>x_pos</th>\n",
       "      <th>y_pos</th>\n",
       "      <th>pupil_width</th>\n",
       "      <th>unknownB</th>\n",
       "      <th>trial</th>\n",
       "    </tr>\n",
       "  </thead>\n",
       "  <tbody>\n",
       "    <tr>\n",
       "      <th>0</th>\n",
       "      <td>472988.0</td>\n",
       "      <td>490.8</td>\n",
       "      <td>572.3</td>\n",
       "      <td>7548.0</td>\n",
       "      <td>32768.0</td>\n",
       "      <td>1.0</td>\n",
       "    </tr>\n",
       "    <tr>\n",
       "      <th>1</th>\n",
       "      <td>472989.0</td>\n",
       "      <td>491.3</td>\n",
       "      <td>572.3</td>\n",
       "      <td>7548.0</td>\n",
       "      <td>32768.0</td>\n",
       "      <td>1.0</td>\n",
       "    </tr>\n",
       "    <tr>\n",
       "      <th>2</th>\n",
       "      <td>472990.0</td>\n",
       "      <td>491.5</td>\n",
       "      <td>569.9</td>\n",
       "      <td>7548.0</td>\n",
       "      <td>32768.0</td>\n",
       "      <td>1.0</td>\n",
       "    </tr>\n",
       "    <tr>\n",
       "      <th>3</th>\n",
       "      <td>472991.0</td>\n",
       "      <td>489.0</td>\n",
       "      <td>566.8</td>\n",
       "      <td>7549.0</td>\n",
       "      <td>32768.0</td>\n",
       "      <td>1.0</td>\n",
       "    </tr>\n",
       "    <tr>\n",
       "      <th>4</th>\n",
       "      <td>472992.0</td>\n",
       "      <td>489.0</td>\n",
       "      <td>566.8</td>\n",
       "      <td>7549.0</td>\n",
       "      <td>32768.0</td>\n",
       "      <td>1.0</td>\n",
       "    </tr>\n",
       "    <tr>\n",
       "      <th>...</th>\n",
       "      <td>...</td>\n",
       "      <td>...</td>\n",
       "      <td>...</td>\n",
       "      <td>...</td>\n",
       "      <td>...</td>\n",
       "      <td>...</td>\n",
       "    </tr>\n",
       "    <tr>\n",
       "      <th>203757</th>\n",
       "      <td>734265.0</td>\n",
       "      <td>1940.6</td>\n",
       "      <td>-147.9</td>\n",
       "      <td>6634.0</td>\n",
       "      <td>32768.0</td>\n",
       "      <td>48.0</td>\n",
       "    </tr>\n",
       "    <tr>\n",
       "      <th>203758</th>\n",
       "      <td>734266.0</td>\n",
       "      <td>1935.2</td>\n",
       "      <td>-147.2</td>\n",
       "      <td>6634.0</td>\n",
       "      <td>32768.0</td>\n",
       "      <td>48.0</td>\n",
       "    </tr>\n",
       "    <tr>\n",
       "      <th>203759</th>\n",
       "      <td>734267.0</td>\n",
       "      <td>1937.6</td>\n",
       "      <td>-127.8</td>\n",
       "      <td>6585.0</td>\n",
       "      <td>32768.0</td>\n",
       "      <td>48.0</td>\n",
       "    </tr>\n",
       "    <tr>\n",
       "      <th>203760</th>\n",
       "      <td>734268.0</td>\n",
       "      <td>1937.2</td>\n",
       "      <td>-133.4</td>\n",
       "      <td>6585.0</td>\n",
       "      <td>32768.0</td>\n",
       "      <td>48.0</td>\n",
       "    </tr>\n",
       "    <tr>\n",
       "      <th>203761</th>\n",
       "      <td>734269.0</td>\n",
       "      <td>1937.6</td>\n",
       "      <td>-133.5</td>\n",
       "      <td>6578.0</td>\n",
       "      <td>32768.0</td>\n",
       "      <td>48.0</td>\n",
       "    </tr>\n",
       "  </tbody>\n",
       "</table>\n",
       "<p>202606 rows × 6 columns</p>\n",
       "</div>"
      ],
      "text/plain": [
       "          sample   x_pos  y_pos  pupil_width  unknownB  trial\n",
       "0       472988.0   490.8  572.3       7548.0   32768.0    1.0\n",
       "1       472989.0   491.3  572.3       7548.0   32768.0    1.0\n",
       "2       472990.0   491.5  569.9       7548.0   32768.0    1.0\n",
       "3       472991.0   489.0  566.8       7549.0   32768.0    1.0\n",
       "4       472992.0   489.0  566.8       7549.0   32768.0    1.0\n",
       "...          ...     ...    ...          ...       ...    ...\n",
       "203757  734265.0  1940.6 -147.9       6634.0   32768.0   48.0\n",
       "203758  734266.0  1935.2 -147.2       6634.0   32768.0   48.0\n",
       "203759  734267.0  1937.6 -127.8       6585.0   32768.0   48.0\n",
       "203760  734268.0  1937.2 -133.4       6585.0   32768.0   48.0\n",
       "203761  734269.0  1937.6 -133.5       6578.0   32768.0   48.0\n",
       "\n",
       "[202606 rows x 6 columns]"
      ]
     },
     "execution_count": 3,
     "metadata": {},
     "output_type": "execute_result"
    }
   ],
   "source": [
    "filename = 'toni0001.asc'\n",
    "data = parse_eyelink_edf_data(filename)\n",
    "data"
   ]
  },
  {
   "cell_type": "markdown",
   "id": "4f93aa9a",
   "metadata": {},
   "source": [
    "# remodnav"
   ]
  },
  {
   "cell_type": "markdown",
   "id": "bc0d3363",
   "metadata": {},
   "source": [
    "## prepare dataframe"
   ]
  },
  {
   "cell_type": "code",
   "execution_count": 6,
   "id": "add88ca6",
   "metadata": {},
   "outputs": [],
   "source": [
    "#save to csv\n",
    "\n",
    "data.to_csv(\"toni0001.csv\", index=False)"
   ]
  },
  {
   "cell_type": "code",
   "execution_count": 7,
   "id": "287547f8",
   "metadata": {},
   "outputs": [],
   "source": [
    "#select x/y position columns, no header, tab separated\n",
    "\n",
    "df = pd.read_csv('toni0001.csv')\n",
    "df = df[['x_pos', 'y_pos']]\n",
    "df.to_csv('toni0001_xypositions.tsv', sep='\\t', header=None, encoding=None, index=False)"
   ]
  },
  {
   "cell_type": "markdown",
   "id": "c17b50a5",
   "metadata": {},
   "source": [
    "## save remodnav output as csv"
   ]
  },
  {
   "cell_type": "code",
   "execution_count": 23,
   "id": "17de54c6",
   "metadata": {},
   "outputs": [],
   "source": [
    "# convert .tsv file to .csv file using with open()\n",
    "\n",
    "# import re\n",
    " \n",
    "# reading given tsv file\n",
    "# with open(\"toni0001_xypositions_events.tsv\", 'r') as myfile:  \n",
    "#  with open(\"toni0001_xypositions_events.csv\", 'w') as csv_file:\n",
    "#    for line in myfile:\n",
    "       \n",
    "      # Replace every tab with comma\n",
    "#      fileContent = re.sub(\"\\t\", \",\", line)\n",
    "       \n",
    "      # Writing into csv file\n",
    "#      csv_file.write(fileContent)\n",
    " \n",
    "# output\n",
    "# print(\"Successfully made csv file\")"
   ]
  },
  {
   "cell_type": "code",
   "execution_count": 8,
   "id": "a00d7137",
   "metadata": {},
   "outputs": [
    {
     "name": "stdout",
     "output_type": "stream",
     "text": [
      "Successfully made csv file\n"
     ]
    }
   ],
   "source": [
    "# convert .tsv file to .csv file using pandas\n",
    " \n",
    "tsv_file='toni0001_xypositions_events.tsv'\n",
    " \n",
    "# reading given tsv file\n",
    "csv_table=pd.read_table(tsv_file,sep='\\t')\n",
    " \n",
    "# converting tsv file into csv\n",
    "csv_table.to_csv('toni0001_xypositions_events.csv',index=False)\n",
    " \n",
    "# output\n",
    "print(\"Successfully made csv file\")"
   ]
  },
  {
   "cell_type": "markdown",
   "id": "c662ac7e",
   "metadata": {},
   "source": [
    "## trial 1 events (remodnav)"
   ]
  },
  {
   "cell_type": "code",
   "execution_count": 25,
   "id": "fc4ebecd",
   "metadata": {},
   "outputs": [
    {
     "data": {
      "text/html": [
       "<div>\n",
       "<style scoped>\n",
       "    .dataframe tbody tr th:only-of-type {\n",
       "        vertical-align: middle;\n",
       "    }\n",
       "\n",
       "    .dataframe tbody tr th {\n",
       "        vertical-align: top;\n",
       "    }\n",
       "\n",
       "    .dataframe thead th {\n",
       "        text-align: right;\n",
       "    }\n",
       "</style>\n",
       "<table border=\"1\" class=\"dataframe\">\n",
       "  <thead>\n",
       "    <tr style=\"text-align: right;\">\n",
       "      <th></th>\n",
       "      <th>sample</th>\n",
       "      <th>x_pos</th>\n",
       "      <th>y_pos</th>\n",
       "      <th>pupil_width</th>\n",
       "      <th>unknownB</th>\n",
       "      <th>trial</th>\n",
       "    </tr>\n",
       "  </thead>\n",
       "  <tbody>\n",
       "    <tr>\n",
       "      <th>0</th>\n",
       "      <td>472988.0</td>\n",
       "      <td>490.8</td>\n",
       "      <td>572.3</td>\n",
       "      <td>7548.0</td>\n",
       "      <td>32768.0</td>\n",
       "      <td>1.0</td>\n",
       "    </tr>\n",
       "    <tr>\n",
       "      <th>1</th>\n",
       "      <td>472989.0</td>\n",
       "      <td>491.3</td>\n",
       "      <td>572.3</td>\n",
       "      <td>7548.0</td>\n",
       "      <td>32768.0</td>\n",
       "      <td>1.0</td>\n",
       "    </tr>\n",
       "    <tr>\n",
       "      <th>2</th>\n",
       "      <td>472990.0</td>\n",
       "      <td>491.5</td>\n",
       "      <td>569.9</td>\n",
       "      <td>7548.0</td>\n",
       "      <td>32768.0</td>\n",
       "      <td>1.0</td>\n",
       "    </tr>\n",
       "    <tr>\n",
       "      <th>3</th>\n",
       "      <td>472991.0</td>\n",
       "      <td>489.0</td>\n",
       "      <td>566.8</td>\n",
       "      <td>7549.0</td>\n",
       "      <td>32768.0</td>\n",
       "      <td>1.0</td>\n",
       "    </tr>\n",
       "    <tr>\n",
       "      <th>4</th>\n",
       "      <td>472992.0</td>\n",
       "      <td>489.0</td>\n",
       "      <td>566.8</td>\n",
       "      <td>7549.0</td>\n",
       "      <td>32768.0</td>\n",
       "      <td>1.0</td>\n",
       "    </tr>\n",
       "    <tr>\n",
       "      <th>...</th>\n",
       "      <td>...</td>\n",
       "      <td>...</td>\n",
       "      <td>...</td>\n",
       "      <td>...</td>\n",
       "      <td>...</td>\n",
       "      <td>...</td>\n",
       "    </tr>\n",
       "    <tr>\n",
       "      <th>6696</th>\n",
       "      <td>479684.0</td>\n",
       "      <td>1135.1</td>\n",
       "      <td>655.7</td>\n",
       "      <td>6071.0</td>\n",
       "      <td>32768.0</td>\n",
       "      <td>1.0</td>\n",
       "    </tr>\n",
       "    <tr>\n",
       "      <th>6697</th>\n",
       "      <td>479685.0</td>\n",
       "      <td>1135.1</td>\n",
       "      <td>656.5</td>\n",
       "      <td>6062.0</td>\n",
       "      <td>32768.0</td>\n",
       "      <td>1.0</td>\n",
       "    </tr>\n",
       "    <tr>\n",
       "      <th>6698</th>\n",
       "      <td>479686.0</td>\n",
       "      <td>1136.4</td>\n",
       "      <td>657.2</td>\n",
       "      <td>6062.0</td>\n",
       "      <td>32768.0</td>\n",
       "      <td>1.0</td>\n",
       "    </tr>\n",
       "    <tr>\n",
       "      <th>6699</th>\n",
       "      <td>479687.0</td>\n",
       "      <td>1136.2</td>\n",
       "      <td>657.2</td>\n",
       "      <td>6071.0</td>\n",
       "      <td>32768.0</td>\n",
       "      <td>1.0</td>\n",
       "    </tr>\n",
       "    <tr>\n",
       "      <th>6700</th>\n",
       "      <td>479688.0</td>\n",
       "      <td>1135.9</td>\n",
       "      <td>656.3</td>\n",
       "      <td>6071.0</td>\n",
       "      <td>32768.0</td>\n",
       "      <td>1.0</td>\n",
       "    </tr>\n",
       "  </tbody>\n",
       "</table>\n",
       "<p>6653 rows × 6 columns</p>\n",
       "</div>"
      ],
      "text/plain": [
       "        sample   x_pos  y_pos  pupil_width  unknownB  trial\n",
       "0     472988.0   490.8  572.3       7548.0   32768.0    1.0\n",
       "1     472989.0   491.3  572.3       7548.0   32768.0    1.0\n",
       "2     472990.0   491.5  569.9       7548.0   32768.0    1.0\n",
       "3     472991.0   489.0  566.8       7549.0   32768.0    1.0\n",
       "4     472992.0   489.0  566.8       7549.0   32768.0    1.0\n",
       "...        ...     ...    ...          ...       ...    ...\n",
       "6696  479684.0  1135.1  655.7       6071.0   32768.0    1.0\n",
       "6697  479685.0  1135.1  656.5       6062.0   32768.0    1.0\n",
       "6698  479686.0  1136.4  657.2       6062.0   32768.0    1.0\n",
       "6699  479687.0  1136.2  657.2       6071.0   32768.0    1.0\n",
       "6700  479688.0  1135.9  656.3       6071.0   32768.0    1.0\n",
       "\n",
       "[6653 rows x 6 columns]"
      ]
     },
     "execution_count": 25,
     "metadata": {},
     "output_type": "execute_result"
    }
   ],
   "source": [
    "trial_1 = data[data[\"trial\"] == 1.0]\n",
    "trial_1"
   ]
  },
  {
   "cell_type": "code",
   "execution_count": 26,
   "id": "5b291fda",
   "metadata": {},
   "outputs": [],
   "source": [
    "trial_1.to_csv(\"trial_1.csv\", index=False)"
   ]
  },
  {
   "cell_type": "code",
   "execution_count": 27,
   "id": "73d63ee8",
   "metadata": {},
   "outputs": [],
   "source": [
    "df_trial1 = pd.read_csv('trial_1.csv')\n",
    "df_trial1 = df_trial1[['x_pos', 'y_pos']]\n",
    "df_trial1.to_csv('trial_1_xypositions.tsv', sep='\\t', header=None, encoding=None, index=False)\n",
    "\n",
    "#remodnav\n",
    "#WARNING:Computed velocity exceeds threshold. Inappropriate filter setup?"
   ]
  },
  {
   "cell_type": "code",
   "execution_count": 28,
   "id": "f991299c",
   "metadata": {},
   "outputs": [
    {
     "name": "stdout",
     "output_type": "stream",
     "text": [
      "Successfully made csv file\n"
     ]
    }
   ],
   "source": [
    "#trial 1 tsv to csv\n",
    "tsv_file=\"trial_1_events.tsv\"\n",
    "csv_table=pd.read_table(tsv_file,sep='\\t')\n",
    "csv_table.to_csv('trial_1_events.csv',index=False)\n",
    " \n",
    "# output\n",
    "print(\"Successfully made csv file\")"
   ]
  },
  {
   "cell_type": "markdown",
   "id": "7546f292",
   "metadata": {},
   "source": [
    "## trial 30 events"
   ]
  },
  {
   "cell_type": "code",
   "execution_count": 29,
   "id": "80e7a717",
   "metadata": {},
   "outputs": [],
   "source": [
    "trial_30 = data[data[\"trial\"] == 30.0]"
   ]
  },
  {
   "cell_type": "code",
   "execution_count": 30,
   "id": "132ee99b",
   "metadata": {},
   "outputs": [],
   "source": [
    "trial_30.to_csv(\"trial_30.csv\", index=False)"
   ]
  },
  {
   "cell_type": "code",
   "execution_count": 31,
   "id": "2f4c808e",
   "metadata": {},
   "outputs": [],
   "source": [
    "df_trial30 = pd.read_csv('trial_30.csv')\n",
    "df_trial30 = df_trial30[['x_pos', 'y_pos']]\n",
    "df_trial30.to_csv('trial_30_xypositions.tsv', sep='\\t', header=None, encoding=None, index=False)\n",
    "\n",
    "#remodnav\n",
    "#no warning"
   ]
  },
  {
   "cell_type": "markdown",
   "id": "bbab2720",
   "metadata": {},
   "source": [
    "## trial 15 events"
   ]
  },
  {
   "cell_type": "code",
   "execution_count": 32,
   "id": "836badfa",
   "metadata": {},
   "outputs": [],
   "source": [
    "trial_15 = data[data[\"trial\"] == 15.0]"
   ]
  },
  {
   "cell_type": "code",
   "execution_count": 50,
   "id": "b3a98fef",
   "metadata": {},
   "outputs": [],
   "source": [
    "trial_15.to_csv(\"trial_15.csv\", index=False)"
   ]
  },
  {
   "cell_type": "code",
   "execution_count": 51,
   "id": "d8ebe608",
   "metadata": {},
   "outputs": [],
   "source": [
    "df_trial15 = pd.read_csv('trial_15.csv')\n",
    "df_trial15 = df_trial15[['x_pos', 'y_pos']]\n",
    "df_trial15.to_csv('trial_15_xypositions.tsv', sep='\\t', header=None, encoding=None, index=False)\n",
    "\n",
    "#remodnav\n",
    "#no warning"
   ]
  },
  {
   "cell_type": "markdown",
   "id": "7d9fcb9b-95db-422c-9a63-d8b2543042bc",
   "metadata": {},
   "source": [
    "# Visualize the data"
   ]
  },
  {
   "cell_type": "code",
   "execution_count": 9,
   "id": "5d20c6a6-5914-4c55-8270-bfd2421fa357",
   "metadata": {},
   "outputs": [
    {
     "data": {
      "image/png": "[encoded data removed]",
      "text/plain": [
       "<Figure size 640x480 with 1 Axes>"
      ]
     },
     "metadata": {},
     "output_type": "display_data"
    }
   ],
   "source": [
    "# visualize the x position over time for some selected trials\n",
    "trials_to_plot = [1.0, 4.0, 8.0, 10.0, 11.0, 13.0, 14.0, 15.0]\n",
    "\n",
    "for trial in trials_to_plot:\n",
    "    # make sure each trial starts at 0\n",
    "    time_line_zeroed = data[data.trial == trial]['sample'] - data[data.trial == trial]['sample'].iloc[0]\n",
    "    # and divide by 1000 to make it seconds\n",
    "    time_line_secs = time_line_zeroed/1000\n",
    "\n",
    "    y_pos = data[data.trial == trial].y_pos\n",
    "    plt.plot(time_line_secs, y_pos) "
   ]
  },
  {
   "cell_type": "markdown",
   "id": "27a60110-7e09-4098-8256-6eb8b30f12c5",
   "metadata": {},
   "source": [
    "# Align the gaze data to the path"
   ]
  },
  {
   "cell_type": "code",
   "execution_count": 33,
   "id": "d6a2e646-53a3-4c35-9d6e-979f89c6db17",
   "metadata": {
    "scrolled": true
   },
   "outputs": [
    {
     "data": {
      "image/png": "[encoded data removed]",
      "text/plain": [
       "<Figure size 1500x200 with 3 Axes>"
      ]
     },
     "metadata": {},
     "output_type": "display_data"
    }
   ],
   "source": [
    "path_info_filename = 'trialinfo_toni.csv'\n",
    "\n",
    "# load the path data\n",
    "path_data = pd.read_csv(path_info_filename)\n",
    "y_pos_cols = path_data.columns[['yVals' in path_data.columns[x] for x in range(len(path_data.columns))]]\n",
    "x_pos_cols = path_data.columns[['xVals' in path_data.columns[x] for x in range(len(path_data.columns))]]\n",
    "\n",
    "y_pos_path = path_data[y_pos_cols]\n",
    "x_pos_path = path_data[x_pos_cols]\n",
    "\n",
    "trial = 4.0\n",
    "# filter x and y position by trial\n",
    "path_y = y_pos_path.loc[path_data['trial_order'] == int(trial), :].values[0]\n",
    "path_x = x_pos_path.loc[path_data['trial'] == int(trial), :].values[0]\n",
    "\n",
    "gaze_y = data[data.trial == trial].y_pos\n",
    "gaze_x = data[data.trial == trial].x_pos\n",
    "\n",
    "# define a timeline for the path (3 seconds, 360 samlpes)\n",
    "time_path = np.linspace(0, 3, 360)\n",
    "\n",
    "# timeline for gaze\n",
    "time_line_zeroed = data[data.trial == trial]['sample'] - data[data.trial == trial]['sample'].iloc[0]\n",
    "# and divide by 1000 to make it seconds\n",
    "time_target = time_line_zeroed/1000\n",
    "\n",
    "# plot\n",
    "fig, axs = plt.subplots(1,3, figsize = (15,2))\n",
    "\n",
    "axs[0].plot(time_path, path_y)\n",
    "axs[0].plot(time_target, gaze_y)\n",
    "\n",
    "axs[1].plot(time_path, path_x)\n",
    "axs[1].plot(time_target, gaze_x)\n",
    "\n",
    "axs[2].plot(path_x, path_y)\n",
    "axs[2].plot(gaze_x, gaze_y);"
   ]
  },
  {
   "cell_type": "markdown",
   "id": "36e68309-e132-4245-afd4-f0d83cb061bd",
   "metadata": {},
   "source": [
    "# Sampling down"
   ]
  },
  {
   "cell_type": "markdown",
   "id": "30d12c5e",
   "metadata": {},
   "source": [
    "## 50 Hz"
   ]
  },
  {
   "cell_type": "code",
   "execution_count": 10,
   "id": "008dfe2c-a582-47b2-9090-741e6ceb3ac5",
   "metadata": {},
   "outputs": [
    {
     "data": {
      "text/html": [
       "<div>\n",
       "<style scoped>\n",
       "    .dataframe tbody tr th:only-of-type {\n",
       "        vertical-align: middle;\n",
       "    }\n",
       "\n",
       "    .dataframe tbody tr th {\n",
       "        vertical-align: top;\n",
       "    }\n",
       "\n",
       "    .dataframe thead th {\n",
       "        text-align: right;\n",
       "    }\n",
       "</style>\n",
       "<table border=\"1\" class=\"dataframe\">\n",
       "  <thead>\n",
       "    <tr style=\"text-align: right;\">\n",
       "      <th></th>\n",
       "      <th>sample</th>\n",
       "      <th>x_pos</th>\n",
       "      <th>y_pos</th>\n",
       "      <th>pupil_width</th>\n",
       "      <th>unknownB</th>\n",
       "      <th>trial</th>\n",
       "    </tr>\n",
       "  </thead>\n",
       "  <tbody>\n",
       "    <tr>\n",
       "      <th>0</th>\n",
       "      <td>472988.0</td>\n",
       "      <td>490.8</td>\n",
       "      <td>572.3</td>\n",
       "      <td>7548.0</td>\n",
       "      <td>32768.0</td>\n",
       "      <td>1.0</td>\n",
       "    </tr>\n",
       "    <tr>\n",
       "      <th>20</th>\n",
       "      <td>473008.0</td>\n",
       "      <td>488.6</td>\n",
       "      <td>573.4</td>\n",
       "      <td>7557.0</td>\n",
       "      <td>32768.0</td>\n",
       "      <td>1.0</td>\n",
       "    </tr>\n",
       "    <tr>\n",
       "      <th>40</th>\n",
       "      <td>473028.0</td>\n",
       "      <td>491.2</td>\n",
       "      <td>579.5</td>\n",
       "      <td>7579.0</td>\n",
       "      <td>32768.0</td>\n",
       "      <td>1.0</td>\n",
       "    </tr>\n",
       "    <tr>\n",
       "      <th>60</th>\n",
       "      <td>473048.0</td>\n",
       "      <td>781.3</td>\n",
       "      <td>567.2</td>\n",
       "      <td>7587.0</td>\n",
       "      <td>32768.0</td>\n",
       "      <td>1.0</td>\n",
       "    </tr>\n",
       "    <tr>\n",
       "      <th>80</th>\n",
       "      <td>473068.0</td>\n",
       "      <td>994.3</td>\n",
       "      <td>564.2</td>\n",
       "      <td>7612.0</td>\n",
       "      <td>32768.0</td>\n",
       "      <td>1.0</td>\n",
       "    </tr>\n",
       "    <tr>\n",
       "      <th>...</th>\n",
       "      <td>...</td>\n",
       "      <td>...</td>\n",
       "      <td>...</td>\n",
       "      <td>...</td>\n",
       "      <td>...</td>\n",
       "      <td>...</td>\n",
       "    </tr>\n",
       "    <tr>\n",
       "      <th>203680</th>\n",
       "      <td>NaN</td>\n",
       "      <td>NaN</td>\n",
       "      <td>NaN</td>\n",
       "      <td>NaN</td>\n",
       "      <td>NaN</td>\n",
       "      <td>NaN</td>\n",
       "    </tr>\n",
       "    <tr>\n",
       "      <th>203700</th>\n",
       "      <td>NaN</td>\n",
       "      <td>NaN</td>\n",
       "      <td>NaN</td>\n",
       "      <td>NaN</td>\n",
       "      <td>NaN</td>\n",
       "      <td>NaN</td>\n",
       "    </tr>\n",
       "    <tr>\n",
       "      <th>203720</th>\n",
       "      <td>734228.0</td>\n",
       "      <td>1931.8</td>\n",
       "      <td>-143.4</td>\n",
       "      <td>6584.0</td>\n",
       "      <td>32768.0</td>\n",
       "      <td>48.0</td>\n",
       "    </tr>\n",
       "    <tr>\n",
       "      <th>203740</th>\n",
       "      <td>734248.0</td>\n",
       "      <td>1933.5</td>\n",
       "      <td>-157.0</td>\n",
       "      <td>6603.0</td>\n",
       "      <td>32768.0</td>\n",
       "      <td>48.0</td>\n",
       "    </tr>\n",
       "    <tr>\n",
       "      <th>203760</th>\n",
       "      <td>734268.0</td>\n",
       "      <td>1937.2</td>\n",
       "      <td>-133.4</td>\n",
       "      <td>6585.0</td>\n",
       "      <td>32768.0</td>\n",
       "      <td>48.0</td>\n",
       "    </tr>\n",
       "  </tbody>\n",
       "</table>\n",
       "<p>10189 rows × 6 columns</p>\n",
       "</div>"
      ],
      "text/plain": [
       "          sample   x_pos  y_pos  pupil_width  unknownB  trial\n",
       "0       472988.0   490.8  572.3       7548.0   32768.0    1.0\n",
       "20      473008.0   488.6  573.4       7557.0   32768.0    1.0\n",
       "40      473028.0   491.2  579.5       7579.0   32768.0    1.0\n",
       "60      473048.0   781.3  567.2       7587.0   32768.0    1.0\n",
       "80      473068.0   994.3  564.2       7612.0   32768.0    1.0\n",
       "...          ...     ...    ...          ...       ...    ...\n",
       "203680       NaN     NaN    NaN          NaN       NaN    NaN\n",
       "203700       NaN     NaN    NaN          NaN       NaN    NaN\n",
       "203720  734228.0  1931.8 -143.4       6584.0   32768.0   48.0\n",
       "203740  734248.0  1933.5 -157.0       6603.0   32768.0   48.0\n",
       "203760  734268.0  1937.2 -133.4       6585.0   32768.0   48.0\n",
       "\n",
       "[10189 rows x 6 columns]"
      ]
     },
     "execution_count": 10,
     "metadata": {},
     "output_type": "execute_result"
    }
   ],
   "source": [
    "# sample down to 50Hz by taking every 20th sample:\n",
    "fifty_hz_data = data[::20]\n",
    "fifty_hz_data"
   ]
  },
  {
   "cell_type": "code",
   "execution_count": 11,
   "id": "d8102aa5",
   "metadata": {},
   "outputs": [],
   "source": [
    "#convert to csv\n",
    "\n",
    "fifty_hz_data.to_csv(\"toni0001_fiftyhz.csv\", index=False)"
   ]
  },
  {
   "cell_type": "code",
   "execution_count": 12,
   "id": "4406e032",
   "metadata": {},
   "outputs": [],
   "source": [
    "# x/y positions, no header, tab separated\n",
    "\n",
    "df_fifty = pd.read_csv('toni0001_fiftyhz.csv')\n",
    "df_fifty = df_fifty[['x_pos', 'y_pos']]\n",
    "df_fifty.to_csv('toni0001_xypositions_fifty.tsv', sep='\\t', header=None, encoding=None, index=False)\n",
    "\n",
    "#set remodnav parameters\n",
    "#sav gol length 0,06-0.07  \n",
    "#min sacc duration to 0.02 --> unrecognised argument ???\n",
    "\n",
    "#remodnav\n",
    "#WARNING:Computed velocity exceeds threshold. Inappropriate filter setup?"
   ]
  },
  {
   "cell_type": "code",
   "execution_count": 13,
   "id": "bbeb7299",
   "metadata": {},
   "outputs": [
    {
     "name": "stdout",
     "output_type": "stream",
     "text": [
      "Successfully made csv file\n"
     ]
    }
   ],
   "source": [
    "# convert .tsv file to .csv file using pandas\n",
    " \n",
    "tsv_file=\"toni0001_fifty_events.tsv\"\n",
    " \n",
    "# reading given tsv file\n",
    "csv_table=pd.read_table(tsv_file,sep='\\t')\n",
    " \n",
    "# converting tsv file into csv\n",
    "csv_table.to_csv('toni0001_fifty_events.csv',index=False)\n",
    " \n",
    "# output\n",
    "print(\"Successfully made csv file\")"
   ]
  },
  {
   "cell_type": "markdown",
   "id": "1720ffce",
   "metadata": {},
   "source": [
    "## 100 Hz"
   ]
  },
  {
   "cell_type": "code",
   "execution_count": 14,
   "id": "91563251",
   "metadata": {},
   "outputs": [
    {
     "data": {
      "text/html": [
       "<div>\n",
       "<style scoped>\n",
       "    .dataframe tbody tr th:only-of-type {\n",
       "        vertical-align: middle;\n",
       "    }\n",
       "\n",
       "    .dataframe tbody tr th {\n",
       "        vertical-align: top;\n",
       "    }\n",
       "\n",
       "    .dataframe thead th {\n",
       "        text-align: right;\n",
       "    }\n",
       "</style>\n",
       "<table border=\"1\" class=\"dataframe\">\n",
       "  <thead>\n",
       "    <tr style=\"text-align: right;\">\n",
       "      <th></th>\n",
       "      <th>sample</th>\n",
       "      <th>x_pos</th>\n",
       "      <th>y_pos</th>\n",
       "      <th>pupil_width</th>\n",
       "      <th>unknownB</th>\n",
       "      <th>trial</th>\n",
       "    </tr>\n",
       "  </thead>\n",
       "  <tbody>\n",
       "    <tr>\n",
       "      <th>0</th>\n",
       "      <td>472988.0</td>\n",
       "      <td>490.8</td>\n",
       "      <td>572.3</td>\n",
       "      <td>7548.0</td>\n",
       "      <td>32768.0</td>\n",
       "      <td>1.0</td>\n",
       "    </tr>\n",
       "    <tr>\n",
       "      <th>10</th>\n",
       "      <td>472998.0</td>\n",
       "      <td>491.8</td>\n",
       "      <td>573.2</td>\n",
       "      <td>7553.0</td>\n",
       "      <td>32768.0</td>\n",
       "      <td>1.0</td>\n",
       "    </tr>\n",
       "    <tr>\n",
       "      <th>20</th>\n",
       "      <td>473008.0</td>\n",
       "      <td>488.6</td>\n",
       "      <td>573.4</td>\n",
       "      <td>7557.0</td>\n",
       "      <td>32768.0</td>\n",
       "      <td>1.0</td>\n",
       "    </tr>\n",
       "    <tr>\n",
       "      <th>30</th>\n",
       "      <td>473018.0</td>\n",
       "      <td>490.8</td>\n",
       "      <td>571.2</td>\n",
       "      <td>7560.0</td>\n",
       "      <td>32768.0</td>\n",
       "      <td>1.0</td>\n",
       "    </tr>\n",
       "    <tr>\n",
       "      <th>40</th>\n",
       "      <td>473028.0</td>\n",
       "      <td>491.2</td>\n",
       "      <td>579.5</td>\n",
       "      <td>7579.0</td>\n",
       "      <td>32768.0</td>\n",
       "      <td>1.0</td>\n",
       "    </tr>\n",
       "    <tr>\n",
       "      <th>...</th>\n",
       "      <td>...</td>\n",
       "      <td>...</td>\n",
       "      <td>...</td>\n",
       "      <td>...</td>\n",
       "      <td>...</td>\n",
       "      <td>...</td>\n",
       "    </tr>\n",
       "    <tr>\n",
       "      <th>203720</th>\n",
       "      <td>734228.0</td>\n",
       "      <td>1931.8</td>\n",
       "      <td>-143.4</td>\n",
       "      <td>6584.0</td>\n",
       "      <td>32768.0</td>\n",
       "      <td>48.0</td>\n",
       "    </tr>\n",
       "    <tr>\n",
       "      <th>203730</th>\n",
       "      <td>734238.0</td>\n",
       "      <td>1935.6</td>\n",
       "      <td>-142.9</td>\n",
       "      <td>6619.0</td>\n",
       "      <td>32768.0</td>\n",
       "      <td>48.0</td>\n",
       "    </tr>\n",
       "    <tr>\n",
       "      <th>203740</th>\n",
       "      <td>734248.0</td>\n",
       "      <td>1933.5</td>\n",
       "      <td>-157.0</td>\n",
       "      <td>6603.0</td>\n",
       "      <td>32768.0</td>\n",
       "      <td>48.0</td>\n",
       "    </tr>\n",
       "    <tr>\n",
       "      <th>203750</th>\n",
       "      <td>734258.0</td>\n",
       "      <td>1933.0</td>\n",
       "      <td>-146.7</td>\n",
       "      <td>6593.0</td>\n",
       "      <td>32768.0</td>\n",
       "      <td>48.0</td>\n",
       "    </tr>\n",
       "    <tr>\n",
       "      <th>203760</th>\n",
       "      <td>734268.0</td>\n",
       "      <td>1937.2</td>\n",
       "      <td>-133.4</td>\n",
       "      <td>6585.0</td>\n",
       "      <td>32768.0</td>\n",
       "      <td>48.0</td>\n",
       "    </tr>\n",
       "  </tbody>\n",
       "</table>\n",
       "<p>20377 rows × 6 columns</p>\n",
       "</div>"
      ],
      "text/plain": [
       "          sample   x_pos  y_pos  pupil_width  unknownB  trial\n",
       "0       472988.0   490.8  572.3       7548.0   32768.0    1.0\n",
       "10      472998.0   491.8  573.2       7553.0   32768.0    1.0\n",
       "20      473008.0   488.6  573.4       7557.0   32768.0    1.0\n",
       "30      473018.0   490.8  571.2       7560.0   32768.0    1.0\n",
       "40      473028.0   491.2  579.5       7579.0   32768.0    1.0\n",
       "...          ...     ...    ...          ...       ...    ...\n",
       "203720  734228.0  1931.8 -143.4       6584.0   32768.0   48.0\n",
       "203730  734238.0  1935.6 -142.9       6619.0   32768.0   48.0\n",
       "203740  734248.0  1933.5 -157.0       6603.0   32768.0   48.0\n",
       "203750  734258.0  1933.0 -146.7       6593.0   32768.0   48.0\n",
       "203760  734268.0  1937.2 -133.4       6585.0   32768.0   48.0\n",
       "\n",
       "[20377 rows x 6 columns]"
      ]
     },
     "execution_count": 14,
     "metadata": {},
     "output_type": "execute_result"
    }
   ],
   "source": [
    "# sample down to 100z by taking every 10th sample:\n",
    "onehundred_hz_data = data[::10]\n",
    "onehundred_hz_data"
   ]
  },
  {
   "cell_type": "code",
   "execution_count": 15,
   "id": "b3e7f281",
   "metadata": {},
   "outputs": [],
   "source": [
    "onehundred_hz_data.to_csv(\"toni0001_onehundredhz.csv\", index=False)"
   ]
  },
  {
   "cell_type": "code",
   "execution_count": 17,
   "id": "2e5587c1",
   "metadata": {},
   "outputs": [],
   "source": [
    "df_onehundred = pd.read_csv('toni0001_onehundredhz.csv')\n",
    "df_onehundred = df_onehundred[['x_pos', 'y_pos']]\n",
    "df_onehundred.to_csv('toni0001_onehundredhz_xypositions.tsv', sep='\\t', header=None, encoding=None, index=False)"
   ]
  },
  {
   "cell_type": "code",
   "execution_count": 18,
   "id": "f632b8fa",
   "metadata": {},
   "outputs": [
    {
     "name": "stdout",
     "output_type": "stream",
     "text": [
      "Successfully made csv file\n"
     ]
    }
   ],
   "source": [
    "# convert .tsv file to .csv file using pandas\n",
    " \n",
    "tsv_file=\"toni0001_onehundredhz_events.tsv\"\n",
    " \n",
    "# reading given tsv file\n",
    "csv_table=pd.read_table(tsv_file,sep='\\t')\n",
    " \n",
    "# converting tsv file into csv\n",
    "csv_table.to_csv('toni0001_onehundredhz_events.csv',index=False)\n",
    " \n",
    "# output\n",
    "print(\"Successfully made csv file\")"
   ]
  },
  {
   "cell_type": "markdown",
   "id": "f98c6db2-1e09-402d-962f-d39d1079ae22",
   "metadata": {},
   "source": [
    "# Sampling up"
   ]
  },
  {
   "cell_type": "code",
   "execution_count": 14,
   "id": "9a5ed0a0-ccc9-481e-ba57-6d29f8ac031a",
   "metadata": {},
   "outputs": [
    {
     "data": {
      "text/html": [
       "<div>\n",
       "<style scoped>\n",
       "    .dataframe tbody tr th:only-of-type {\n",
       "        vertical-align: middle;\n",
       "    }\n",
       "\n",
       "    .dataframe tbody tr th {\n",
       "        vertical-align: top;\n",
       "    }\n",
       "\n",
       "    .dataframe thead th {\n",
       "        text-align: right;\n",
       "    }\n",
       "</style>\n",
       "<table border=\"1\" class=\"dataframe\">\n",
       "  <thead>\n",
       "    <tr style=\"text-align: right;\">\n",
       "      <th></th>\n",
       "      <th>sample</th>\n",
       "      <th>x_pos</th>\n",
       "      <th>y_pos</th>\n",
       "      <th>trial</th>\n",
       "    </tr>\n",
       "  </thead>\n",
       "  <tbody>\n",
       "    <tr>\n",
       "      <th>0</th>\n",
       "      <td>472988.000000</td>\n",
       "      <td>490.800000</td>\n",
       "      <td>572.300000</td>\n",
       "      <td>1.0</td>\n",
       "    </tr>\n",
       "    <tr>\n",
       "      <th>1</th>\n",
       "      <td>472770.290927</td>\n",
       "      <td>471.366553</td>\n",
       "      <td>569.212802</td>\n",
       "      <td>1.0</td>\n",
       "    </tr>\n",
       "    <tr>\n",
       "      <th>2</th>\n",
       "      <td>472581.187480</td>\n",
       "      <td>454.681509</td>\n",
       "      <td>566.482976</td>\n",
       "      <td>1.0</td>\n",
       "    </tr>\n",
       "    <tr>\n",
       "      <th>3</th>\n",
       "      <td>472421.267743</td>\n",
       "      <td>440.763692</td>\n",
       "      <td>564.127379</td>\n",
       "      <td>1.0</td>\n",
       "    </tr>\n",
       "    <tr>\n",
       "      <th>4</th>\n",
       "      <td>472290.689373</td>\n",
       "      <td>429.590743</td>\n",
       "      <td>562.157668</td>\n",
       "      <td>1.0</td>\n",
       "    </tr>\n",
       "    <tr>\n",
       "      <th>...</th>\n",
       "      <td>...</td>\n",
       "      <td>...</td>\n",
       "      <td>...</td>\n",
       "      <td>...</td>\n",
       "    </tr>\n",
       "    <tr>\n",
       "      <th>202601</th>\n",
       "      <td>731193.041905</td>\n",
       "      <td>745.550321</td>\n",
       "      <td>208.058257</td>\n",
       "      <td>48.0</td>\n",
       "    </tr>\n",
       "    <tr>\n",
       "      <th>202602</th>\n",
       "      <td>730993.305384</td>\n",
       "      <td>668.706493</td>\n",
       "      <td>231.783750</td>\n",
       "      <td>48.0</td>\n",
       "    </tr>\n",
       "    <tr>\n",
       "      <th>202603</th>\n",
       "      <td>730805.135257</td>\n",
       "      <td>596.398039</td>\n",
       "      <td>254.174683</td>\n",
       "      <td>48.0</td>\n",
       "    </tr>\n",
       "    <tr>\n",
       "      <th>202604</th>\n",
       "      <td>730630.030440</td>\n",
       "      <td>529.185982</td>\n",
       "      <td>275.044889</td>\n",
       "      <td>48.0</td>\n",
       "    </tr>\n",
       "    <tr>\n",
       "      <th>202605</th>\n",
       "      <td>730469.291033</td>\n",
       "      <td>467.553639</td>\n",
       "      <td>294.232041</td>\n",
       "      <td>48.0</td>\n",
       "    </tr>\n",
       "  </tbody>\n",
       "</table>\n",
       "<p>202606 rows × 4 columns</p>\n",
       "</div>"
      ],
      "text/plain": [
       "               sample       x_pos       y_pos  trial\n",
       "0       472988.000000  490.800000  572.300000    1.0\n",
       "1       472770.290927  471.366553  569.212802    1.0\n",
       "2       472581.187480  454.681509  566.482976    1.0\n",
       "3       472421.267743  440.763692  564.127379    1.0\n",
       "4       472290.689373  429.590743  562.157668    1.0\n",
       "...               ...         ...         ...    ...\n",
       "202601  731193.041905  745.550321  208.058257   48.0\n",
       "202602  730993.305384  668.706493  231.783750   48.0\n",
       "202603  730805.135257  596.398039  254.174683   48.0\n",
       "202604  730630.030440  529.185982  275.044889   48.0\n",
       "202605  730469.291033  467.553639  294.232041   48.0\n",
       "\n",
       "[202606 rows x 4 columns]"
      ]
     },
     "execution_count": 14,
     "metadata": {},
     "output_type": "execute_result"
    }
   ],
   "source": [
    "import scipy\n",
    "\n",
    "resampled_data = pd.DataFrame()\n",
    "\n",
    "for trial in np.unique(data.trial):\n",
    "    sample_to = len(data[data.trial == trial])\n",
    "    \n",
    "    trial_data = pd.DataFrame()\n",
    "    time = fifty_hz_data[fifty_hz_data.trial == trial]['sample'].values\n",
    "    x = fifty_hz_data[fifty_hz_data.trial == trial]['x_pos'].values\n",
    "    y = fifty_hz_data[fifty_hz_data.trial == trial]['y_pos'].values\n",
    "    \n",
    "    x_resampled = scipy.signal.resample(x, sample_to)\n",
    "    y_resampled = scipy.signal.resample(y, sample_to)\n",
    "    time_resampled = scipy.signal.resample(time, sample_to)\n",
    "    \n",
    "    trial_data['sample'] = time_resampled\n",
    "    trial_data['x_pos'] = x_resampled\n",
    "    trial_data['y_pos'] = y_resampled\n",
    "    trial_data['trial'] = trial\n",
    "\n",
    "    resampled_data = pd.concat([resampled_data, trial_data])\n",
    "\n",
    "resampled_data = resampled_data.reset_index(drop = True)\n",
    "\n",
    "resampled_data"
   ]
  },
  {
   "cell_type": "code",
   "execution_count": 31,
   "id": "bb78fbe9-4925-4096-a018-9e4e52900377",
   "metadata": {},
   "outputs": [
    {
     "data": {
      "image/png": "[encoded data removed]",
      "text/plain": [
       "<Figure size 1500x200 with 3 Axes>"
      ]
     },
     "metadata": {},
     "output_type": "display_data"
    }
   ],
   "source": [
    "# plot original and resampled data\n",
    "trial = 4.0\n",
    "# filter x and y position by trial\n",
    "path_y = y_pos_path.loc[path_data['trial_order'] == int(trial), :].values[0]\n",
    "path_x = x_pos_path.loc[path_data['trial'] == int(trial), :].values[0]\n",
    "\n",
    "gaze_y = data[data.trial == trial].y_pos\n",
    "gaze_x = data[data.trial == trial].x_pos\n",
    "\n",
    "gaze_y_res = resampled_data[resampled_data.trial == trial].y_pos\n",
    "gaze_x_res = resampled_data[resampled_data.trial == trial].x_pos\n",
    "\n",
    "# define a timeline for the path (3 seconds, 360 samlpes)\n",
    "time_path = np.linspace(0, 3, 360)\n",
    "\n",
    "# timeline for gaze\n",
    "time_line_zeroed = data[data.trial == trial]['sample'] - data[data.trial == trial]['sample'].iloc[0]\n",
    "# and divide by 1000 to make it seconds\n",
    "time_target = time_line_zeroed/1000\n",
    "\n",
    "# plot\n",
    "fig, axs = plt.subplots(1,3, figsize = (15,2))\n",
    "\n",
    "axs[0].plot(time_path, path_y, label = 'target')\n",
    "axs[0].plot(time_target, gaze_y, label = 'gaze y original')\n",
    "axs[0].plot(time_target, gaze_y_res, label = 'gaze y resampled')\n",
    "axs[0].legend()\n",
    "\n",
    "axs[1].plot(time_path, path_x, label = 'target')\n",
    "axs[1].plot(time_target, gaze_x, label = 'gaze x original')\n",
    "axs[1].plot(time_target, gaze_x_res, label ='gaze x resampled')\n",
    "axs[1].legend()\n",
    "\n",
    "axs[2].plot(path_x, path_y, label = 'target')\n",
    "axs[2].plot(gaze_x, gaze_y, label = 'gaze original')\n",
    "axs[2].plot(gaze_x_res, gaze_y_res, label = 'gaze resampled')\n",
    "axs[2].legend();"
   ]
  },
  {
   "cell_type": "code",
   "execution_count": 41,
   "id": "b2372f72",
   "metadata": {},
   "outputs": [
    {
     "data": {
      "image/png": "[encoded data removed]",
      "text/plain": [
       "<Figure size 640x480 with 1 Axes>"
      ]
     },
     "metadata": {},
     "output_type": "display_data"
    }
   ],
   "source": [
    "#plot resampled data\n",
    "\n",
    "# visualize the x position over time for some selected trials\n",
    "trials_to_plot = [1.0, 4.0, 8.0, 10.0, 11.0, 13.0, 14.0, 15.0]\n",
    "\n",
    "for trial in trials_to_plot:\n",
    "    # make sure each trial starts at 0\n",
    "    time_line_zeroed = resampled_data[resampled_data.trial == trial]['sample'] - resampled_data[resampled_data.trial == trial]['sample'].iloc[0]\n",
    "    # and divide by 1000 to make it seconds\n",
    "    time_line_secs = time_line_zeroed/1000\n",
    "\n",
    "    y_pos = resampled_data[resampled_data.trial == trial].y_pos\n",
    "    plt.plot(time_line_secs[:-500], y_pos[:-500]) "
   ]
  },
  {
   "cell_type": "markdown",
   "id": "a4e5801c",
   "metadata": {},
   "source": [
    "# remodnav with resampled data"
   ]
  },
  {
   "cell_type": "code",
   "execution_count": 15,
   "id": "2dba93d4",
   "metadata": {},
   "outputs": [],
   "source": [
    "resampled_data.to_csv(\"resampled_toni0001.csv\", index=False)"
   ]
  },
  {
   "cell_type": "code",
   "execution_count": 55,
   "id": "6d6096f9",
   "metadata": {},
   "outputs": [],
   "source": [
    "df_resampled = pd.read_csv('resampled_toni0001.csv')\n",
    "df_resampled = df_resampled[['x_pos', 'y_pos']]\n",
    "df_resampled.to_csv('resampled_toni0001_xypositions.tsv', sep='\\t', header=None, encoding=None, index=False)\n",
    "\n",
    "#remodnav\n",
    "#WARNING:Computed velocity exceeds threshold. Inappropriate filter setup?"
   ]
  },
  {
   "cell_type": "markdown",
   "id": "3eb812e3",
   "metadata": {},
   "source": [
    "## trial 15 events resampled"
   ]
  },
  {
   "cell_type": "code",
   "execution_count": 29,
   "id": "f701ebe6",
   "metadata": {},
   "outputs": [],
   "source": [
    "trial_15_resamp = resampled_data[resampled_data[\"trial\"] == 15.0]"
   ]
  },
  {
   "cell_type": "code",
   "execution_count": 17,
   "id": "d734fff6",
   "metadata": {},
   "outputs": [],
   "source": [
    "trial_15_resamp.to_csv(\"trial_15_resamp.csv\", index=False)"
   ]
  },
  {
   "cell_type": "code",
   "execution_count": 18,
   "id": "2fc1f144",
   "metadata": {},
   "outputs": [],
   "source": [
    "df_trial15_resamp = pd.read_csv('trial_15_resamp.csv')\n",
    "df_trial15_resamp = df_trial15_resamp[['x_pos', 'y_pos']]\n",
    "df_trial15_resamp.to_csv('trial_15_resamp_xypositions.tsv', sep='\\t', header=None, encoding=None, index=False)"
   ]
  },
  {
   "cell_type": "markdown",
   "id": "3ddf95aa",
   "metadata": {},
   "source": [
    "## trial 30 events resampled"
   ]
  },
  {
   "cell_type": "code",
   "execution_count": 28,
   "id": "8256bf0a",
   "metadata": {},
   "outputs": [],
   "source": [
    "trial_30_resamp = resampled_data[resampled_data[\"trial\"] == 30.0]"
   ]
  },
  {
   "cell_type": "code",
   "execution_count": 25,
   "id": "8416da3e",
   "metadata": {},
   "outputs": [],
   "source": [
    "trial_30_resamp.to_csv(\"trial_30_resamp.csv\", index=False)"
   ]
  },
  {
   "cell_type": "code",
   "execution_count": 26,
   "id": "99adde19",
   "metadata": {},
   "outputs": [],
   "source": [
    "df_trial30_resamp = pd.read_csv('trial_30_resamp.csv')\n",
    "df_trial30_resamp = df_trial30_resamp[['x_pos', 'y_pos']]\n",
    "df_trial30_resamp.to_csv('trial_30_resamp_xypositions.tsv', sep='\\t', header=None, encoding=None, index=False)"
   ]
  },
  {
   "cell_type": "markdown",
   "id": "f488cd2f-45a0-41af-8a6c-b5b7e9b46984",
   "metadata": {},
   "source": [
    "# Find the Pixel to Degree Conversion"
   ]
  },
  {
   "cell_type": "code",
   "execution_count": 46,
   "id": "99619958-b8c2-4b22-99e1-bcb9a4142d42",
   "metadata": {},
   "outputs": [
    {
     "name": "stdout",
     "output_type": "stream",
     "text": [
      "0.014374463954186843\n"
     ]
    }
   ],
   "source": [
    "# for eye movement detection:\n",
    "import math\n",
    "screen_width = 28 # in cm\n",
    "screen_res = 1920 # in pixel\n",
    "viewing_distance = 57 # in cm (double-check in lab)\n",
    "\n",
    "px2deg = np.degrees(math.atan2(.5 * screen_width, viewing_distance)) / (.5 * screen_res)\n",
    "print(px2deg)"
   ]
  },
  {
   "cell_type": "code",
   "execution_count": null,
   "id": "6fa1e170",
   "metadata": {},
   "outputs": [],
   "source": []
  }
 ],
 "metadata": {
  "kernelspec": {
   "display_name": "Python 3 (ipykernel)",
   "language": "python",
   "name": "python3"
  },
  "language_info": {
   "codemirror_mode": {
    "name": "ipython",
    "version": 3
   },
   "file_extension": ".py",
   "mimetype": "text/x-python",
   "name": "python",
   "nbconvert_exporter": "python",
   "pygments_lexer": "ipython3",
   "version": "3.10.9"
  }
 },
 "nbformat": 4,
 "nbformat_minor": 5
}
